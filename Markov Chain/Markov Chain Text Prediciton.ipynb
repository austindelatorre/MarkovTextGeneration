{
 "cells": [
  {
   "cell_type": "code",
   "execution_count": 26,
   "id": "56411ce8",
   "metadata": {},
   "outputs": [],
   "source": [
    "import re\n",
    "import random"
   ]
  },
  {
   "cell_type": "code",
   "execution_count": 402,
   "id": "6a6df0f1",
   "metadata": {},
   "outputs": [],
   "source": [
    "def strip_and_sort(file):\n",
    "    with open(file) as f:\n",
    "        lines = f.readlines()\n",
    "        text = \"\"\n",
    "        for line in lines:\n",
    "            for char in line.upper():\n",
    "                if char in \"QWERTYUIOPASDFGHJKLZXCVBNM:,. \":\n",
    "                    text += char\n",
    "        sentences = re.split(\",|:\", text)\n",
    "        phrases = [re.split(\" \", sent) for sent in sentences]\n",
    "        text = text.replace(\";\", \"\").replace(\",\", \"\").replace(\".\", \"\")\n",
    "        words = set(re.findall(\"([A-Z]*) \", text))\n",
    "        words.remove('')\n",
    "    return phrases, words\n",
    "        "
   ]
  },
  {
   "cell_type": "code",
   "execution_count": 403,
   "id": "c6f90793",
   "metadata": {},
   "outputs": [],
   "source": [
    "def frequency(phrases, words):\n",
    "    freq = dict()\n",
    "    for word in words:\n",
    "        np1_list = []\n",
    "        for phrase in phrases:\n",
    "            if word in phrase:\n",
    "                occ = phrase.count(word)\n",
    "                for i in range(1, occ + 1):\n",
    "                    try:\n",
    "                        word_i = phrase.index(word, i)\n",
    "                    except:\n",
    "                        word_i = phrase.index(word)\n",
    "                    if word_i + 1 <= len(phrase) - 1:\n",
    "                        np1_list.append(phrase[word_i + 1])\n",
    "        freq[word] = np1_list\n",
    "    return freq"
   ]
  },
  {
   "cell_type": "code",
   "execution_count": 410,
   "id": "bb0c7fd9",
   "metadata": {},
   "outputs": [],
   "source": [
    "def predict(text, freq, n = 10):\n",
    "    if n == 0:\n",
    "        return text\n",
    "    prob = freq[text.split(' ')[-1]]\n",
    "    if len(prob) == 0:\n",
    "        return\n",
    "    new = random.choice(prob)\n",
    "    return predict(text + \" \" + new, freq, n -1)\n"
   ]
  },
  {
   "cell_type": "code",
   "execution_count": 414,
   "id": "8fa39351",
   "metadata": {},
   "outputs": [
    {
     "data": {
      "text/plain": [
       "'IS CONCERNED WITH VERY ABSTRACT SCIENCE'"
      ]
     },
     "execution_count": 414,
     "metadata": {},
     "output_type": "execute_result"
    }
   ],
   "source": [
    "phrases, words = strip_and_sort(\"sample.txt\") \n",
    "freq = frequency(phrases, words)\n",
    "predict(\"IS\", freq, 5)"
   ]
  },
  {
   "cell_type": "code",
   "execution_count": 398,
   "id": "93f67205",
   "metadata": {},
   "outputs": [
    {
     "name": "stdout",
     "output_type": "stream",
     "text": [
      "[['THERE', 'IS', 'WIDE', 'AGREEMENT', 'THAT', 'PHILOSOPHY', 'IS', 'CHARACTERIZED', 'BY', 'VARIOUS', 'GENERAL', 'FEATURES'], ['', 'IT', 'IS', 'A', 'FORM', 'OF', 'RATIONAL', 'INQUIRY'], ['', 'IT', 'AIMS', 'TO', 'BE', 'SYSTEMATIC'], ['', 'AND', 'IT', 'TENDS', 'TO', 'CRITICALLY', 'REFLECT', 'ON', 'ITS', 'OWN', 'METHODS', 'AND', 'PRESUPPOSITIONS.', 'BUT', 'APPROACHES', 'THAT', 'GO', 'BEYOND', 'SUCH', 'VAGUE', 'CHARACTERIZATIONS', 'TO', 'GIVE', 'A', 'MORE', 'INTERESTING', 'OR', 'PROFOUND', 'DEFINITION', 'ARE', 'USUALLY', 'CONTROVERSIAL.', 'OFTEN'], ['', 'THEY', 'ARE', 'ONLY', 'ACCEPTED', 'BY', 'THEORISTS', 'BELONGING', 'TO', 'A', 'CERTAIN', 'PHILOSOPHICAL', 'MOVEMENT', 'AND', 'ARE', 'REVISIONISTIC', 'IN', 'THAT', 'MANY', 'PRESUMED', 'PARTS', 'OF', 'PHILOSOPHY', 'WOULD', 'NOT', 'DESERVE', 'THE', 'TITLE', 'PHILOSOPHY', 'IF', 'THEY', 'WERE', 'TRUE.', 'BEFORE', 'THE', 'MODERN', 'AGE'], ['', 'THE', 'TERM', 'WAS', 'USED', 'IN', 'A', 'VERY', 'WIDE', 'SENSE'], ['', 'WHICH', 'INCLUDED', 'THE', 'INDIVIDUAL', 'SCIENCES'], ['', 'LIKE', 'PHYSICS', 'OR', 'MATHEMATICS'], ['', 'AS', 'ITS', 'SUBDISCIPLINES'], ['', 'BUT', 'THE', 'CONTEMPORARY', 'USAGE', 'IS', 'MORE', 'NARROW.', 'SOME', 'APPROACHES', 'ARGUE', 'THAT', 'THERE', 'IS', 'A', 'SET', 'OF', 'ESSENTIAL', 'FEATURES', 'SHARED', 'BY', 'ALL', 'PARTS', 'OF', 'PHILOSOPHY', 'WHILE', 'OTHERS', 'SEE', 'ONLY', 'WEAKER', 'FAMILY', 'RESEMBLANCES', 'OR', 'CONTEND', 'THAT', 'IT', 'IS', 'MERELY', 'AN', 'EMPTY', 'BLANKET', 'TERM.', 'SOME', 'DEFINITIONS', 'CHARACTERIZE', 'PHILOSOPHY', 'IN', 'RELATION', 'TO', 'ITS', 'METHOD'], ['', 'LIKE', 'PURE', 'REASONING.', 'OTHERS', 'FOCUS', 'MORE', 'ON', 'ITS', 'TOPIC'], ['', 'FOR', 'EXAMPLE'], ['', 'AS', 'THE', 'STUDY', 'OF', 'THE', 'BIGGEST', 'PATTERNS', 'OF', 'THE', 'WORLD', 'AS', 'A', 'WHOLE', 'OR', 'AS', 'THE', 'ATTEMPT', 'TO', 'ANSWER', 'THE', 'BIG', 'QUESTIONS.', 'BOTH', 'APPROACHES', 'HAVE', 'THE', 'PROBLEM', 'THAT', 'THEY', 'ARE', 'USUALLY', 'EITHER', 'TOO', 'WIDE'], ['', 'BY', 'INCLUDING', 'NONPHILOSOPHICAL', 'DISCIPLINES'], ['', 'OR', 'TOO', 'NARROW'], ['', 'BY', 'EXCLUDING', 'SOME', 'PHILOSOPHICAL', 'SUBDISCIPLINES.', 'MANY', 'DEFINITIONS', 'OF', 'PHILOSOPHY', 'EMPHASIZE', 'ITS', 'INTIMATE', 'RELATION', 'TO', 'SCIENCE.', 'IN', 'THIS', 'SENSE'], ['', 'PHILOSOPHY', 'IS', 'SOMETIMES', 'UNDERSTOOD', 'AS', 'A', 'PROPER', 'SCIENCE', 'IN', 'ITS', 'OWN', 'RIGHT.', 'SOME', 'NATURALIST', 'APPROACHES'], ['', 'FOR', 'EXAMPLE'], ['', 'SEE', 'PHILOSOPHY', 'AS', 'AN', 'EMPIRICAL', 'YET', 'VERY', 'ABSTRACT', 'SCIENCE', 'THAT', 'IS', 'CONCERNED', 'WITH', 'VERY', 'WIDERANGING', 'EMPIRICAL', 'PATTERNS', 'INSTEAD', 'OF', 'PARTICULAR', 'OBSERVATIONS.', 'SOME', 'PHENOMENOLOGISTS'], ['', 'ON', 'THE', 'OTHER', 'HAND'], ['', 'CHARACTERIZE', 'PHILOSOPHY', 'AS', 'THE', 'SCIENCE', 'OF', 'ESSENCES.', 'SCIENCEBASED', 'DEFINITIONS', 'USUALLY', 'FACE', 'THE', 'PROBLEM', 'OF', 'EXPLAINING', 'WHY', 'PHILOSOPHY', 'IN', 'ITS', 'LONG', 'HISTORY', 'HAS', 'NOT', 'MADE', 'THE', 'TYPE', 'OF', 'PROGRESS', 'AS', 'SEEN', 'IN', 'OTHER', 'SCIENCES.', 'THIS', 'PROBLEM', 'IS', 'AVOIDED', 'BY', 'SEEING', 'PHILOSOPHY', 'AS', 'AN', 'IMMATURE', 'OR', 'PROVISIONAL', 'SCIENCE', 'WHOSE', 'SUBDISCIPLINES', 'CEASE', 'TO', 'BE', 'PHILOSOPHY', 'ONCE', 'THEY', 'HAVE', 'FULLY', 'DEVELOPED.', 'IN', 'THIS', 'SENSE'], ['', 'PHILOSOPHY', 'IS', 'THE', 'MIDWIFE', 'OF', 'THE', 'SCIENCES.', 'OTHER', 'DEFINITIONS', 'FOCUS', 'MORE', 'ON', 'THE', 'CONTRAST', 'BETWEEN', 'SCIENCE', 'AND', 'PHILOSOPHY.', 'A', 'COMMON', 'THEME', 'AMONG', 'MANY', 'SUCH', 'DEFINITIONS', 'IS', 'THAT', 'PHILOSOPHY', 'IS', 'CONCERNED', 'WITH', 'MEANING'], ['', 'UNDERSTANDING'], ['', 'OR', 'THE', 'CLARIFICATION', 'OF', 'LANGUAGE.', 'ACCORDING', 'TO', 'ONE', 'VIEW'], ['', 'PHILOSOPHY', 'IS', 'CONCEPTUAL', 'ANALYSIS'], ['', 'WHICH', 'INVOLVES', 'FINDING', 'THE', 'NECESSARY', 'AND', 'SUFFICIENT', 'CONDITIONS', 'FOR', 'THE', 'APPLICATION', 'OF', 'CONCEPTS.', 'ANOTHER', 'DEFINES', 'PHILOSOPHY', 'AS', 'A', 'LINGUISTIC', 'THERAPY', 'THAT', 'AIMS', 'AT', 'DISPELLING', 'MISUNDERSTANDINGS', 'TO', 'WHICH', 'HUMANS', 'ARE', 'SUSCEPTIBLE', 'DUE', 'TO', 'THE', 'CONFUSING', 'STRUCTURE', 'OF', 'NATURAL', 'LANGUAGE.', 'ONE', 'MORE', 'APPROACH', 'HOLDS', 'THAT', 'THE', 'MAIN', 'TASK', 'OF', 'PHILOSOPHY', 'IS', 'TO', 'ARTICULATE', 'THE', 'PREONTOLOGICAL', 'UNDERSTANDING', 'OF', 'THE', 'WORLD'], ['', 'WHICH', 'ACTS', 'AS', 'A', 'CONDITION', 'OF', 'POSSIBILITY', 'OF', 'EXPERIENCE.MANY', 'OTHER', 'DEFINITIONS', 'OF', 'PHILOSOPHY', 'DO', 'NOT', 'CLEARLY', 'FALL', 'INTO', 'ANY', 'OF', 'THE', 'AFOREMENTIONED', 'CATEGORIES.', 'AN', 'EARLY', 'APPROACH', 'ALREADY', 'FOUND', 'IN', 'ANCIENT', 'GREEK', 'AND', 'ROMAN', 'PHILOSOPHY', 'IS', 'THAT', 'PHILOSOPHY', 'IS', 'THE', 'SPIRITUAL', 'PRACTICE', 'OF', 'DEVELOPING', 'ONES', 'REASONING', 'ABILITY.', 'THIS', 'PRACTICE', 'IS', 'AN', 'EXPRESSION', 'OF', 'THE', 'PHILOSOPHERS', 'LOVE', 'OF', 'WISDOM', 'AND', 'HAS', 'THE', 'AIM', 'OF', 'IMPROVING', 'ONES', 'WELLBEING', 'BY', 'LEADING', 'A', 'REFLECTIVE', 'LIFE.', 'A', 'CLOSELY', 'RELATED', 'APPROACH', 'IDENTIFIES', 'THE', 'DEVELOPMENT', 'AND', 'ARTICULATION', 'OF', 'WORLDVIEWS', 'AS', 'THE', 'PRINCIPAL', 'TASK', 'OF', 'PHILOSOPHY'], ['', 'I.E.', 'TO', 'EXPRESS', 'HOW', 'THINGS', 'ON', 'THE', 'GRAND', 'SCALE', 'HANG', 'TOGETHER', 'AND', 'WHICH', 'PRACTICAL', 'STANCE', 'WE', 'SHOULD', 'TAKE', 'TOWARDS', 'THEM.', 'ANOTHER', 'DEFINITION', 'CHARACTERIZES', 'PHILOSOPHY', 'AS', 'THINKING', 'ABOUT', 'THINKING', 'IN', 'ORDER', 'TO', 'EMPHASIZE', 'ITS', 'REFLECTIVE', 'NATURE.', '']]\n",
      "{'BY', 'AMONG', 'AIM', 'REFLECT', 'NATURALIST', 'THINGS', 'CONTROVERSIAL', 'MISUNDERSTANDINGS', 'TOWARDS', 'INCLUDING', 'AS', 'GO', 'IT', 'APPROACHES', 'PRESUMED', 'METHODS', 'LINGUISTIC', 'REFLECTIVE', 'DEVELOPMENT', 'ABOUT', 'ITS', 'POSSIBILITY', 'HOLDS', 'THEY', 'SYSTEMATIC', 'EXAMPLE', 'CATEGORIES', 'UNDERSTANDING', 'CHARACTERIZE', 'MORE', 'ONLY', 'STRUCTURE', 'ARE', 'BUT', 'IF', 'DISPELLING', 'WHILE', 'WAS', 'SHARED', 'ONE', 'WE', 'OF', 'THINKING', 'LOVE', 'OTHERS', 'HAND', 'TYPE', 'ANALYSIS', 'EXCLUDING', 'EXPRESS', 'TERM', 'OFTEN', 'DESERVE', 'GRAND', 'PROVISIONAL', 'PURE', 'ONCE', 'CHARACTERIZES', 'FALL', 'VAGUE', 'USAGE', 'SCIENCE', 'BETWEEN', 'IS', 'BOTH', 'CONDITION', 'MADE', 'VERY', 'TRUE', 'LANGUAGE', 'MAIN', 'PARTS', 'ORDER', 'HANG', 'RELATION', 'ABILITY', 'EMPIRICAL', 'LIFE', 'ANCIENT', 'THEM', 'THERAPY', 'WHY', 'MODERN', 'WHOSE', 'CLARIFICATION', 'COMMON', 'ARGUE', 'SUCH', 'SCIENCEBASED', 'RELATED', 'REASONING', 'OTHER', 'RESEMBLANCES', 'FORM', 'FEATURES', 'NOT', 'TASK', 'STANCE', 'FAMILY', 'CONTEMPORARY', 'PHILOSOPHERS', 'CLOSELY', 'INVOLVES', 'IDENTIFIES', 'FOCUS', 'EMPHASIZE', 'ATTEMPT', 'THIS', 'YET', 'PHILOSOPHICAL', 'SEEING', 'NECESSARY', 'HAS', 'BEFORE', 'USUALLY', 'WELLBEING', 'ANOTHER', 'A', 'WITH', 'TO', 'NONPHILOSOPHICAL', 'WEAKER', 'SOMETIMES', 'PROBLEM', 'SUBDISCIPLINES', 'ALREADY', 'TOGETHER', 'INQUIRY', 'EXPRESSION', 'REVISIONISTIC', 'PHYSICS', 'INSTEAD', 'FOUND', 'ANSWER', 'GENERAL', 'AND', 'MATHEMATICS', 'WHOLE', 'ACCORDING', 'EARLY', 'BIG', 'AVOIDED', 'CONFUSING', 'AN', 'ESSENTIAL', 'OWN', 'THEME', 'ANY', 'PROPER', 'INTIMATE', 'WHICH', 'IMPROVING', 'SHOULD', 'RATIONAL', 'DEFINITIONS', 'EITHER', 'SUSCEPTIBLE', 'ESSENCES', 'IMMATURE', 'MERELY', 'NARROW', 'USED', 'MOVEMENT', 'FOR', 'CEASE', 'AT', 'NATURAL', 'PRACTICAL', 'DO', 'ON', 'INTERESTING', 'STUDY', 'GIVE', 'APPROACH', 'PARTICULAR', 'PRACTICE', 'CONTEND', 'ONES', 'TITLE', 'HUMANS', 'WIDE', 'PROFOUND', 'PHENOMENOLOGISTS', 'LONG', 'APPLICATION', 'SEE', 'HAVE', 'CONCEPTUAL', 'ROMAN', 'OBSERVATIONS', 'GREEK', 'DEFINES', 'BLANKET', 'CONTRAST', 'SET', 'UNDERSTOOD', 'MANY', 'SCALE', 'CONCEPTS', 'CERTAIN', 'DEVELOPING', 'DUE', 'CRITICALLY', 'WORLDVIEWS', 'PREONTOLOGICAL', 'CONDITIONS', 'TENDS', 'INCLUDED', 'OR', 'ACCEPTED', 'EMPTY', 'SPIRITUAL', 'INDIVIDUAL', 'ACTS', 'MEANING', 'VARIOUS', 'SCIENCES', 'THEORISTS', 'INTO', 'ARTICULATE', 'NATURE', 'AFOREMENTIONED', 'DISCIPLINES', 'TOO', 'WOULD', 'BIGGEST', 'HOW', 'QUESTIONS', 'DEVELOPED', 'BE', 'VIEW', 'FACE', 'SENSE', 'FULLY', 'IE', 'PRESUPPOSITIONS', 'PRINCIPAL', 'TAKE', 'CHARACTERIZATIONS', 'CLEARLY', 'SUFFICIENT', 'WORLD', 'THE', 'IN', 'ARTICULATION', 'METHOD', 'PHILOSOPHY', 'AIMS', 'WIDERANGING', 'BELONGING', 'ALL', 'EXPLAINING', 'LEADING', 'AGE', 'SOME', 'CONCERNED', 'FINDING', 'PROGRESS', 'SEEN', 'THERE', 'WISDOM', 'PATTERNS', 'WERE', 'MIDWIFE', 'AGREEMENT', 'THAT', 'ABSTRACT', 'RIGHT', 'EXPERIENCEMANY', 'CHARACTERIZED', 'HISTORY', 'BEYOND', 'LIKE', 'TOPIC', 'DEFINITION'}\n"
     ]
    }
   ],
   "source": [
    "print(phrases)\n",
    "print(words)"
   ]
  },
  {
   "cell_type": "code",
   "execution_count": 399,
   "id": "68c2f9ca",
   "metadata": {},
   "outputs": [],
   "source": [
    "thisset = {\"apple\", \"banana\", \"cherry\"}\n",
    "\n",
    "thisset.remove(\"banana\")"
   ]
  },
  {
   "cell_type": "code",
   "execution_count": 400,
   "id": "f000707d",
   "metadata": {},
   "outputs": [
    {
     "data": {
      "text/plain": [
       "2"
      ]
     },
     "execution_count": 400,
     "metadata": {},
     "output_type": "execute_result"
    }
   ],
   "source": [
    "[1,2,2].index(2, 2)"
   ]
  },
  {
   "cell_type": "code",
   "execution_count": 161,
   "id": "db81d44d",
   "metadata": {},
   "outputs": [
    {
     "data": {
      "text/plain": [
       "{1: 2, 3: 2}"
      ]
     },
     "execution_count": 161,
     "metadata": {},
     "output_type": "execute_result"
    }
   ],
   "source": [
    "dict([(1,2), (3,2)])"
   ]
  },
  {
   "cell_type": "code",
   "execution_count": 171,
   "id": "11695f22",
   "metadata": {},
   "outputs": [
    {
     "data": {
      "text/plain": [
       "{2, 3}"
      ]
     },
     "execution_count": 171,
     "metadata": {},
     "output_type": "execute_result"
    }
   ],
   "source": [
    "a= {1,2,3}\n",
    "a.pop()\n",
    "a"
   ]
  },
  {
   "cell_type": "code",
   "execution_count": 192,
   "id": "975229f1",
   "metadata": {},
   "outputs": [
    {
     "data": {
      "text/plain": [
       "[2, 4]"
      ]
     },
     "execution_count": 192,
     "metadata": {},
     "output_type": "execute_result"
    }
   ],
   "source": [
    "a = [3,2,4]\n",
    "a.remove(3)\n",
    "a"
   ]
  },
  {
   "cell_type": "code",
   "execution_count": 218,
   "id": "2e771941",
   "metadata": {},
   "outputs": [
    {
     "data": {
      "text/plain": [
       "1"
      ]
     },
     "execution_count": 218,
     "metadata": {},
     "output_type": "execute_result"
    }
   ],
   "source": [
    "l = ['THERE', 'IS', 'WIDE', 'AGREEMENT', 'THAT', 'PHILOSOPHY', 'IS', 'CHARACTERIZED', 'BY', 'VARIOUS', 'GENERAL', 'FEATURES']\n",
    "l.index('IS', 1)"
   ]
  },
  {
   "cell_type": "code",
   "execution_count": 215,
   "id": "d0023884",
   "metadata": {},
   "outputs": [
    {
     "name": "stdout",
     "output_type": "stream",
     "text": [
      "1\n"
     ]
    }
   ],
   "source": [
    "for i in range(1, 1 + 1):\n",
    "    print(i)"
   ]
  },
  {
   "cell_type": "code",
   "execution_count": null,
   "id": "adb3cc9b",
   "metadata": {},
   "outputs": [],
   "source": []
  }
 ],
 "metadata": {
  "kernelspec": {
   "display_name": "Python 3 (ipykernel)",
   "language": "python",
   "name": "python3"
  },
  "language_info": {
   "codemirror_mode": {
    "name": "ipython",
    "version": 3
   },
   "file_extension": ".py",
   "mimetype": "text/x-python",
   "name": "python",
   "nbconvert_exporter": "python",
   "pygments_lexer": "ipython3",
   "version": "3.9.10"
  }
 },
 "nbformat": 4,
 "nbformat_minor": 5
}
